{
 "cells": [
  {
   "cell_type": "markdown",
   "id": "a60af693",
   "metadata": {},
   "source": [
    "# Accessing Zotero Via the API\n",
    "\n",
    "We want to write scripts which allow us to generate formated bibliographies from our Zotero database which can be found here.\n",
    "\n",
    "[CMSEatMSU Zotero Group](https://www.zotero.org/groups/2465063/cmseatmsu)\n",
    "\n"
   ]
  },
  {
   "cell_type": "markdown",
   "id": "abe70d62",
   "metadata": {},
   "source": [
    "## API overview\n",
    "I was reading the [Zotero API instructions](https://www.zotero.org/support/dev/web_api/v3/basics#search_syntax) and learned a lot. Everything starts with the Basic URL.\n",
    "\n",
    "\n",
    "Basic URL this does nothing interesting:\n",
    "\n",
    "https://api.zotero.org"
   ]
  },
  {
   "cell_type": "markdown",
   "id": "8f3ce487",
   "metadata": {},
   "source": [
    "We can build off the basic URL by adding in the groups (or user) keyword and their number. For example here is the basic URL with the CMSEatMSU group added.  This produces just the group information:\n",
    "\n",
    "https://api.zotero.org/groups/2465063\n"
   ]
  },
  {
   "cell_type": "markdown",
   "id": "a05810fb",
   "metadata": {},
   "source": [
    "We can dig a little deeper and see the collections (and their Keys)inside the groups as follows:\n",
    "\n",
    "https://api.zotero.org/groups/2465063/collections"
   ]
  },
  {
   "cell_type": "markdown",
   "id": "e8779637",
   "metadata": {},
   "source": [
    "If we know a collection key (ex MPY3BTV3) then we can see the items in the collection:\n",
    "\n",
    "https://api.zotero.org/groups/2465063/collections/MPY3BTV3/items"
   ]
  },
  {
   "cell_type": "markdown",
   "id": "88f11844",
   "metadata": {},
   "source": [
    "What I want is to generated formatted data the format=bib is parameter is the trick. We can add in a parameter by using the \"```?```\" charicter and then our ```parameter=value```.  Unfortunatly this only works with up to 150 entries:\n",
    "\n",
    "https://api.zotero.org/groups/2465063/collections/MPY3BTV3/items?format=bib"
   ]
  },
  {
   "cell_type": "markdown",
   "id": "02e6037d",
   "metadata": {},
   "source": [
    "I can use multiple parameters by seperating them with the \"```&```\" symbol.  This one uses linkwrap set to 1 to include clickable links in the output:\n",
    "\n",
    "https://api.zotero.org/groups/2465063/collections/MPY3BTV3/items?format=bib&linkwrap=1"
   ]
  },
  {
   "cell_type": "markdown",
   "id": "29177d66",
   "metadata": {},
   "source": [
    "There are a few special formats like \"coins\" and \"bibtex\" which we may also want to investigate:\n",
    "\n",
    "https://api.zotero.org/groups/2465063/collections/MPY3BTV3/items?format=coins"
   ]
  },
  {
   "cell_type": "markdown",
   "id": "9532c4c7",
   "metadata": {},
   "source": [
    "## Using Pyzotero\n",
    "\n",
    "[PyZotero gitrepo](https://github.com/urschrei/pyzotero)\n"
   ]
  },
  {
   "cell_type": "code",
   "execution_count": null,
   "id": "4ca275f6",
   "metadata": {},
   "outputs": [],
   "source": [
    "#pip install --user pyzotero"
   ]
  },
  {
   "cell_type": "code",
   "execution_count": null,
   "id": "b8e42cb6",
   "metadata": {},
   "outputs": [],
   "source": [
    "# CMSEatMSU info\n",
    "library_id = 2465063\n",
    "library_type = 'group'\n",
    "api_key = 'cFSWPh7uTWOhEHZCuyqPXciW'"
   ]
  },
  {
   "cell_type": "code",
   "execution_count": null,
   "id": "58119cf4",
   "metadata": {
    "scrolled": true
   },
   "outputs": [],
   "source": [
    "from pyzotero import zotero\n",
    "zot = zotero.Zotero(library_id = library_id, library_type = library_type, api_key = api_key)\n",
    "items = zot.top()\n",
    "\n",
    "# we've retrieved the latest five top-level items in our library\n",
    "# we can print each item's item type and ID\n",
    "# for item in items:\n",
    "#     print('Item: %s | Key: %s' % (item['data']['itemType'], item['data']['key']))"
   ]
  },
  {
   "cell_type": "markdown",
   "id": "5da49848",
   "metadata": {},
   "source": [
    "Read all collections (Zotero Folders) and identify publications for each collection"
   ]
  },
  {
   "cell_type": "code",
   "execution_count": null,
   "id": "c4a04d53",
   "metadata": {},
   "outputs": [],
   "source": [
    "for folder in zot.collections():\n",
    "    print(folder['data']['name'], folder['data']['key'])\n",
    "    for item in zot.collection_items(folder['data']['key']):\n",
    "        print('* Item: %s | Key: %s' % (item['data'],['itemType']))"
   ]
  },
  {
   "cell_type": "code",
   "execution_count": null,
   "id": "e128b5f2",
   "metadata": {},
   "outputs": [],
   "source": [
    "dir(zotero.Zotero)"
   ]
  },
  {
   "cell_type": "code",
   "execution_count": null,
   "id": "e384c55a",
   "metadata": {},
   "outputs": [],
   "source": [
    "zotero.mimetypes?"
   ]
  },
  {
   "cell_type": "code",
   "execution_count": null,
   "id": "9781e819",
   "metadata": {},
   "outputs": [],
   "source": [
    "dir(zotero)"
   ]
  },
  {
   "cell_type": "code",
   "execution_count": null,
   "id": "078d0672",
   "metadata": {},
   "outputs": [],
   "source": []
  }
 ],
 "metadata": {
  "kernelspec": {
   "display_name": "Python 3 (ipykernel)",
   "language": "python",
   "name": "python3"
  },
  "language_info": {
   "codemirror_mode": {
    "name": "ipython",
    "version": 3
   },
   "file_extension": ".py",
   "mimetype": "text/x-python",
   "name": "python",
   "nbconvert_exporter": "python",
   "pygments_lexer": "ipython3",
   "version": "3.9.7"
  }
 },
 "nbformat": 4,
 "nbformat_minor": 5
}
