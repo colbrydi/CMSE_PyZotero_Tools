{
 "cells": [
  {
   "cell_type": "markdown",
   "id": "a60af693",
   "metadata": {},
   "source": [
    "# Accessing Zotero Via the API\n",
    "\n",
    "\n",
    "[CMSEatMSU Zotero Group](https://www.zotero.org/groups/2465063/cmseatmsu)\n",
    "\n",
    "[PyZotero gitrepo](https://github.com/urschrei/pyzotero)\n",
    "\n",
    "[Zotero API instructions](https://www.zotero.org/support/dev/web_api/v3/basics#search_syntax)\n",
    "\n"
   ]
  },
  {
   "cell_type": "code",
   "execution_count": null,
   "id": "58119cf4",
   "metadata": {
    "scrolled": true
   },
   "outputs": [],
   "source": [
    "from pyzotero import zotero\n",
    "zot = zotero.Zotero(library_id = library_id, library_type = library_type, api_key = api_key)\n",
    "items = zot.top()\n",
    "\n",
    "# we've retrieved the latest five top-level items in our library\n",
    "# we can print each item's item type and ID\n",
    "# for item in items:\n",
    "#     print('Item: %s | Key: %s' % (item['data']['itemType'], item['data']['key']))"
   ]
  },
  {
   "cell_type": "markdown",
   "id": "5da49848",
   "metadata": {},
   "source": [
    "Read all collections (Zotero Folders) and identify publications for each collection"
   ]
  },
  {
   "cell_type": "code",
   "execution_count": null,
   "id": "c4a04d53",
   "metadata": {},
   "outputs": [],
   "source": [
    "for folder in zot.collections():\n",
    "    print(folder['data']['name'], folder['data']['key'])\n",
    "    for item in zot.collection_items(folder['data']['key']):\n",
    "        print('---Item: %s | Key: %s' % (item['data']['itemType']))"
   ]
  },
  {
   "cell_type": "code",
   "execution_count": null,
   "id": "e128b5f2",
   "metadata": {},
   "outputs": [],
   "source": [
    "folder"
   ]
  },
  {
   "cell_type": "code",
   "execution_count": null,
   "id": "e384c55a",
   "metadata": {},
   "outputs": [],
   "source": [
    "item"
   ]
  }
 ],
 "metadata": {
  "kernelspec": {
   "display_name": "Python 3 (ipykernel)",
   "language": "python",
   "name": "python3"
  },
  "language_info": {
   "codemirror_mode": {
    "name": "ipython",
    "version": 3
   },
   "file_extension": ".py",
   "mimetype": "text/x-python",
   "name": "python",
   "nbconvert_exporter": "python",
   "pygments_lexer": "ipython3",
   "version": "3.9.5"
  }
 },
 "nbformat": 4,
 "nbformat_minor": 5
}
